{
  "nbformat": 4,
  "nbformat_minor": 0,
  "metadata": {
    "colab": {
      "provenance": [],
      "include_colab_link": true
    },
    "kernelspec": {
      "name": "python3",
      "display_name": "Python 3"
    },
    "language_info": {
      "name": "python"
    }
  },
  "cells": [
    {
      "cell_type": "markdown",
      "metadata": {
        "id": "view-in-github",
        "colab_type": "text"
      },
      "source": [
        "<a href=\"https://colab.research.google.com/github/hgarg97/ML-Code-Challenges/blob/main/MLCode_LinearAlgebra.ipynb\" target=\"_parent\"><img src=\"https://colab.research.google.com/assets/colab-badge.svg\" alt=\"Open In Colab\"/></a>"
      ]
    },
    {
      "cell_type": "markdown",
      "source": [
        "# Linear Algebra\n",
        "\n",
        "## https://www.deep-ml.com/problems"
      ],
      "metadata": {
        "id": "akgFvzLOfeCR"
      }
    },
    {
      "cell_type": "markdown",
      "source": [
        "## 1. Matrix times Vector"
      ],
      "metadata": {
        "id": "F0irBbcHfq6V"
      }
    },
    {
      "cell_type": "code",
      "execution_count": null,
      "metadata": {
        "id": "A-_xUTpF2cDf"
      },
      "outputs": [],
      "source": [
        "def matrix_dot_vector(a:list[list[int|float]],b:list[int|float])-> list[int|float]:\n",
        "\tif len(a[0]) != len(b):\n",
        "\t\treturn -1\n",
        "\n",
        "\tres = []\n",
        "\n",
        "\tfor mat in a:\n",
        "\t\tval = 0\n",
        "\t\tfor j in range(len(mat)):\n",
        "\t\t\tval += (mat[j]*b[j])\n",
        "\n",
        "\t\tres.append(val)\n",
        "\n",
        "\treturn res"
      ]
    },
    {
      "cell_type": "markdown",
      "source": [
        "## 2. Transpose of a Matrix\n"
      ],
      "metadata": {
        "id": "AvWpCjE7f1R7"
      }
    },
    {
      "cell_type": "code",
      "source": [
        "def transpose_matrix(a: list[list[int|float]]) -> list[list[int|float]]:\n",
        "\n",
        "\treturn [[row[i] for row in a] for i in range(len(a[0]))]"
      ],
      "metadata": {
        "id": "E1JIyIA3fzdC"
      },
      "execution_count": null,
      "outputs": []
    },
    {
      "cell_type": "markdown",
      "source": [
        "## 3. Reshape Matrix\n"
      ],
      "metadata": {
        "id": "kf94FtrxgGiD"
      }
    },
    {
      "cell_type": "code",
      "source": [
        "import numpy as np\n",
        "\n",
        "def reshape_matrix(a: list[list[int|float]], new_shape: tuple[int, int]) -> list[list[int|float]]:\n",
        "\t#Write your code here and return a python list after reshaping by using numpy's tolist() method\n",
        "\tnew_row = new_shape[0]\n",
        "\tnew_col = new_shape[1]\n",
        "\n",
        "\treshaped_matrix = []\n",
        "\n",
        "\tnew_matrix = []\n",
        "\n",
        "\tfor i in a:\n",
        "\t\tfor j in range(len(i)):\n",
        "\t\t\tnew_matrix.append(i[j])\n",
        "\n",
        "\tk = 0\n",
        "\n",
        "\tfor _ in range(new_row):\n",
        "\t\trow_mat = []\n",
        "\t\tfor i in range(new_col):\n",
        "\t\t\trow_mat.append(new_matrix[k])\n",
        "\t\t\tk+=1\n",
        "\t\treshaped_matrix.append(row_mat)\n",
        "\n",
        "\treturn reshaped_matrix"
      ],
      "metadata": {
        "id": "ga7Tr6mXgDmp"
      },
      "execution_count": null,
      "outputs": []
    },
    {
      "cell_type": "markdown",
      "source": [
        "## 4. Calculate Mean by Row or Column\n"
      ],
      "metadata": {
        "id": "nZJ4mfgfgQLj"
      }
    },
    {
      "cell_type": "code",
      "source": [
        "def calculate_matrix_mean(matrix: list[list[float]], mode: str) -> list[float]:\n",
        "\tn = len(matrix)\n",
        "\tm = len(matrix[0])\n",
        "\n",
        "\tmeans = []\n",
        "\tsum_row = [0]*n\n",
        "\tsum_col = [0]*m\n",
        "\n",
        "\tfor row in range(n):\n",
        "\t\t\tfor item in range(m):\n",
        "\t\t\t\tsum_row[row] += matrix[row][item]\n",
        "\t\t\t\tsum_col[item] += matrix[row][item]\n",
        "\n",
        "\tif mode == 'row':\n",
        "\t\tfor i in range(n):\n",
        "\t\t\tmeans.append(sum_row[i]//n)\n",
        "\n",
        "\tif mode == 'column':\n",
        "\t\tfor i in range(m):\n",
        "\t\t\tmeans.append(sum_col[i]//m)\n",
        "\n",
        "\treturn means"
      ],
      "metadata": {
        "id": "QlO9f27sgRYt"
      },
      "execution_count": null,
      "outputs": []
    },
    {
      "cell_type": "markdown",
      "source": [
        "## 5. Scalar Multiplication of a Matrix\n"
      ],
      "metadata": {
        "id": "4WiPpsyWgU3R"
      }
    },
    {
      "cell_type": "code",
      "source": [
        "def scalar_multiply(matrix: list[list[int|float]], scalar: int|float) -> list[list[int|float]]:\n",
        "\tresult = []\n",
        "\n",
        "\tfor row in matrix:\n",
        "\t\tres_row = [0]*len(matrix)\n",
        "\t\tfor j in range(len(row)):\n",
        "\t\t\tres_row[j] = row[j] * scalar\n",
        "\t\tresult.append(res_row)\n",
        "\treturn result"
      ],
      "metadata": {
        "id": "ziSpnJLdgUPY"
      },
      "execution_count": null,
      "outputs": []
    },
    {
      "cell_type": "markdown",
      "source": [
        "## 6. Calculate Eigenvalues of a Matrix"
      ],
      "metadata": {
        "id": "abBoWfQBxkxC"
      }
    },
    {
      "cell_type": "code",
      "source": [
        "def calculate_eigenvalues(matrix: list[list[float|int]]) -> list[float]:\n",
        "\n",
        "\ta, b, c, d = matrix[0][0], matrix[0][1], matrix[1][0], matrix[1][1]\n",
        "\n",
        "\ttrace = a+d\n",
        "\tdet = a*d-b*c\n",
        "\n",
        "\tdiscrimant = trace**2 - 4*det\n",
        "\n",
        "\tlambda1 = (trace + discrimant**0.5) // 2\n",
        "\tlambda2 = (trace - discrimant**0.5) // 2\n",
        "\n",
        "\treturn [lambda1, lambda2]"
      ],
      "metadata": {
        "id": "WcjQj-N4xj5H"
      },
      "execution_count": null,
      "outputs": []
    }
  ]
}