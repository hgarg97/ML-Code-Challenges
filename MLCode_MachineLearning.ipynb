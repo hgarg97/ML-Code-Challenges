{
  "nbformat": 4,
  "nbformat_minor": 0,
  "metadata": {
    "colab": {
      "provenance": [],
      "include_colab_link": true
    },
    "kernelspec": {
      "name": "python3",
      "display_name": "Python 3"
    },
    "language_info": {
      "name": "python"
    }
  },
  "cells": [
    {
      "cell_type": "markdown",
      "metadata": {
        "id": "view-in-github",
        "colab_type": "text"
      },
      "source": [
        "<a href=\"https://colab.research.google.com/github/hgarg97/ML-Code-Challenges/blob/main/MLCode_MachineLearning.ipynb\" target=\"_parent\"><img src=\"https://colab.research.google.com/assets/colab-badge.svg\" alt=\"Open In Colab\"/></a>"
      ]
    },
    {
      "cell_type": "markdown",
      "source": [
        "# Machine Learning\n",
        "\n",
        "## https://www.deep-ml.com/problems"
      ],
      "metadata": {
        "id": "mr-bWzI-QVK5"
      }
    },
    {
      "cell_type": "markdown",
      "source": [
        "## 14. Linear Regression Using Normal Equation\n"
      ],
      "metadata": {
        "id": "LODc6PO6Qh96"
      }
    },
    {
      "cell_type": "code",
      "execution_count": null,
      "metadata": {
        "id": "ug4y3RPU3Ifk"
      },
      "outputs": [],
      "source": [
        "import numpy as np\n",
        "def linear_regression_normal_equation(X: list[list[float]], y: list[float]) -> list[float]:\n",
        "\t# Your code here, make sure to round\n",
        "\t# X = np.array([1, 1], [1, 2], [1, 3])\n",
        "\t# y = np.array([1, 2, 3])\n",
        "\n",
        "\t# theta = ((X_T.X)^-1).X_T.y\n",
        "\tX = np.array(X)\n",
        "\ty = np.array(y).reshape(-1,1)\n",
        "\tX_T = X.T\n",
        "\n",
        "\ttheta = np.linalg.inv(X_T.dot(X)).dot(X_T).dot(y)\n",
        "\n",
        "\treturn np.round(theta, 4).flatten()"
      ]
    },
    {
      "cell_type": "markdown",
      "source": [
        "## 16. Feature Scaling Implementation"
      ],
      "metadata": {
        "id": "xYXMLheiRB6r"
      }
    },
    {
      "cell_type": "code",
      "source": [
        "import numpy as np\n",
        "\n",
        "def feature_scaling(data: np.ndarray) -> (np.ndarray, np.ndarray):\n",
        "\n",
        "\t# Standardization\n",
        "\n",
        "\tmean = np.mean(data, axis = 0)\n",
        "\tstd = np.std(data, axis = 0)\n",
        "\n",
        "\tstandardized_data = (data-mean) / std\n",
        "\n",
        "\n",
        "\t# Normalization\n",
        "\n",
        "\tmin_val = np.min(data, axis = 0)\n",
        "\tmax_val = np.max(data, axis = 0)\n",
        "\n",
        "\tnormalized_data = (data-min_val) / (max_val - min_val)\n",
        "\n",
        "\treturn np.round(standardized_data, 4), np.round(normalized_data, 4)"
      ],
      "metadata": {
        "id": "iVGB80KdRERb"
      },
      "execution_count": null,
      "outputs": []
    },
    {
      "cell_type": "code",
      "source": [],
      "metadata": {
        "id": "qlwPgqawQni6"
      },
      "execution_count": null,
      "outputs": []
    }
  ]
}