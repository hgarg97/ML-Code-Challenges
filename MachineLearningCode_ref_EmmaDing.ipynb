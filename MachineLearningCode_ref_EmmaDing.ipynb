{
  "nbformat": 4,
  "nbformat_minor": 0,
  "metadata": {
    "colab": {
      "provenance": [],
      "authorship_tag": "ABX9TyPy3CFneLmidbYpEkDHAJyS",
      "include_colab_link": true
    },
    "kernelspec": {
      "name": "python3",
      "display_name": "Python 3"
    },
    "language_info": {
      "name": "python"
    }
  },
  "cells": [
    {
      "cell_type": "markdown",
      "metadata": {
        "id": "view-in-github",
        "colab_type": "text"
      },
      "source": [
        "<a href=\"https://colab.research.google.com/github/hgarg97/ML-Code-Challenges/blob/main/MachineLearningCode_ref_EmmaDing.ipynb\" target=\"_parent\"><img src=\"https://colab.research.google.com/assets/colab-badge.svg\" alt=\"Open In Colab\"/></a>"
      ]
    },
    {
      "cell_type": "markdown",
      "source": [
        "# The Notebook Contains Machine Learning Algorithm Codes for Interview (By Emma Ding)\n",
        "\n",
        "### https://www.youtube.com/watch?v=P-mM9396Dn8&list=PLY1Fi4XflWSsLoOQr-Ee2R4qRFejtCFRh\n"
      ],
      "metadata": {
        "id": "ihtJOvcttvTM"
      }
    },
    {
      "cell_type": "markdown",
      "source": [
        "## K Nearest Neighbors (KNN)"
      ],
      "metadata": {
        "id": "Jl5sbIsFuAHP"
      }
    },
    {
      "cell_type": "code",
      "source": [
        "from collections import Counter\n",
        "\n",
        "class KNN:\n",
        "  def __init__(self, x, y):\n",
        "    self.x = x\n",
        "    self.y = y\n",
        "\n",
        "  def train(self, x, y):\n",
        "    self.x = x\n",
        "    self.y = y\n",
        "\n",
        "  def predict(self, x, k):\n",
        "    # Finding distance from new data point to all data points\n",
        "    distance_label = [\n",
        "        (self.distance(x, train_point), train_label) for train_point, train_label in zip(self.x, self.y)\n",
        "    ]\n",
        "\n",
        "    # Sorting and finding top k\n",
        "    neighbors = sorted(distance_label)[:k]\n",
        "    neighbor_labels = [label for _, label in neighbors]\n",
        "\n",
        "    # Classification\n",
        "    return Counter(neighbor_labels).most_common()[0][0]\n",
        "\n",
        "    # Regression\n",
        "    return sum(neighbor_labels) / len(neighbor_labels)\n",
        "\n",
        "  def distance(self, x1, x2):\n",
        "    return sum((x1[i] - x2[i]) ** 2 for i in range(len(x1))) ** 0.5"
      ],
      "metadata": {
        "id": "-l0H1VvIt-OF"
      },
      "execution_count": 1,
      "outputs": []
    }
  ]
}