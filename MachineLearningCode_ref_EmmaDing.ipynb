{
  "nbformat": 4,
  "nbformat_minor": 0,
  "metadata": {
    "colab": {
      "provenance": [],
      "authorship_tag": "ABX9TyNA33cFqYU2vg9S4Ob5YLhH",
      "include_colab_link": true
    },
    "kernelspec": {
      "name": "python3",
      "display_name": "Python 3"
    },
    "language_info": {
      "name": "python"
    }
  },
  "cells": [
    {
      "cell_type": "markdown",
      "metadata": {
        "id": "view-in-github",
        "colab_type": "text"
      },
      "source": [
        "<a href=\"https://colab.research.google.com/github/hgarg97/ML-Code-Challenges/blob/main/MachineLearningCode_ref_EmmaDing.ipynb\" target=\"_parent\"><img src=\"https://colab.research.google.com/assets/colab-badge.svg\" alt=\"Open In Colab\"/></a>"
      ]
    },
    {
      "cell_type": "markdown",
      "source": [
        "# The Notebook Contains Machine Learning Algorithm Codes for Interview (By Emma Ding)"
      ],
      "metadata": {
        "id": "ihtJOvcttvTM"
      }
    },
    {
      "cell_type": "markdown",
      "source": [
        "## K Nearest Neighbors (KNN)\n",
        "\n",
        "### https://www.youtube.com/watch?v=P-mM9396Dn8&list=PLY1Fi4XflWSsLoOQr-Ee2R4qRFejtCFRh\n"
      ],
      "metadata": {
        "id": "Jl5sbIsFuAHP"
      }
    },
    {
      "cell_type": "code",
      "source": [
        "from collections import Counter\n",
        "\n",
        "class KNN:\n",
        "  def __init__(self, x, y):\n",
        "    self.x = x\n",
        "    self.y = y\n",
        "\n",
        "  def train(self, x, y):\n",
        "    self.x = x\n",
        "    self.y = y\n",
        "\n",
        "  def predict(self, x, k):\n",
        "    # Finding distance from new data point to all data points\n",
        "    distance_label = [\n",
        "        (self.distance(x, train_point), train_label) for train_point, train_label in zip(self.x, self.y)\n",
        "    ]\n",
        "\n",
        "    print(distance_label)\n",
        "\n",
        "    # Sorting and finding top k\n",
        "    neighbors = sorted(distance_label)[:k]\n",
        "    neighbor_labels = [label for _, label in neighbors]\n",
        "\n",
        "    # Regression (Uncomment when need to use)\n",
        "    # return sum(neighbor_labels) / len(neighbor_labels)\n",
        "\n",
        "    # Classification\n",
        "    return Counter(neighbor_labels).most_common()[0][0]\n",
        "\n",
        "  def distance(self, x1, x2):\n",
        "    return sum((x1[i] - x2[i]) ** 2 for i in range(len(x1))) ** 0.5"
      ],
      "metadata": {
        "id": "-l0H1VvIt-OF"
      },
      "execution_count": 4,
      "outputs": []
    },
    {
      "cell_type": "code",
      "source": [
        "# Code in Simple Language\n",
        "\n",
        "class KNN:\n",
        "  def __init__(self, x, y):\n",
        "    self.x = x\n",
        "    self.y = y\n",
        "\n",
        "  def train(self, x, y):\n",
        "    self.x = x\n",
        "    self.y = y\n",
        "\n",
        "  def predict(self, x, k):\n",
        "\n",
        "    # Finding distance from new data point to all data points\n",
        "    distance_label = []\n",
        "    print(\"DISTANCES\")\n",
        "    for train_point, train_label in zip(self.x, self.y):\n",
        "      distance = self.distance(x, train_point)\n",
        "      print(distance)\n",
        "      distance_label.append((distance, train_label))\n",
        "\n",
        "    # Sorting and finding top k\n",
        "    neighbors = sorted(distance_label)[:k]\n",
        "\n",
        "    neighbor_labels = []\n",
        "    for _, label in neighbors:\n",
        "      neighbor_labels.append(label)\n",
        "\n",
        "    print(\"NEIGHBOR LABELS:\", neighbor_labels)\n",
        "\n",
        "    # For Regression (Uncomment when need to use)\n",
        "    # return sum(neighbor_labels) / len(neighbor_labels)\n",
        "\n",
        "\n",
        "    # For Classification\n",
        "    count = {}\n",
        "\n",
        "    for label in neighbor_labels:\n",
        "      if label in count:\n",
        "        count[label] += 1\n",
        "      else:\n",
        "        count[label] = 1\n",
        "\n",
        "    print(\"COUNT\")\n",
        "    print(count)\n",
        "\n",
        "    return max(count, key=count.get)\n",
        "\n",
        "  def distance(self, x1, x2):\n",
        "    return sum((x1[i]-x2[i]) ** 2 for i in range(len(x1))) ** 0.5\n"
      ],
      "metadata": {
        "id": "t_HbO3HU4zGd"
      },
      "execution_count": 35,
      "outputs": []
    },
    {
      "cell_type": "code",
      "source": [
        "X_train = [\n",
        "        [1.0, 2.0],\n",
        "        [2.0, 3.0],\n",
        "        [3.0, 3.0],\n",
        "        [8.0, 7.0],\n",
        "        [9.0, 8.0],\n",
        "    ]\n",
        "\n",
        "# Classification labels (strings)\n",
        "y_class = [\"A\", \"A\", \"B\", \"B\", \"B\"]\n",
        "\n",
        "# Regression targets (numbers)\n",
        "y_reg = [1.5, 2.0, 2.5, 7.5, 8.0]\n",
        "\n",
        "# New point to predict\n",
        "x_new = [2.0, 2.0]\n",
        "k = 3"
      ],
      "metadata": {
        "id": "D5i1LXmV57w1"
      },
      "execution_count": 33,
      "outputs": []
    },
    {
      "cell_type": "code",
      "source": [
        "# Regression\n",
        "\n",
        "knn_reg = KNN(X_train, y_reg)\n",
        "pred_reg = knn_reg.predict(x_new, k=k)\n",
        "print(f\"Regression (k={k}) for {x_new}: {pred_reg:.3f}\")"
      ],
      "metadata": {
        "colab": {
          "base_uri": "https://localhost:8080/"
        },
        "id": "hQ2yVNXL-tRd",
        "outputId": "485a0767-d842-4eda-9ac2-1496c71811fd"
      },
      "execution_count": 34,
      "outputs": [
        {
          "output_type": "stream",
          "name": "stdout",
          "text": [
            "DISTANCES\n",
            "1.0\n",
            "1.0\n",
            "1.4142135623730951\n",
            "7.810249675906654\n",
            "9.219544457292887\n",
            "NEIGHBOR LABELS: [1.5, 2.0, 2.5]\n",
            "Regression (k=3) for [2.0, 2.0]: 2.000\n"
          ]
        }
      ]
    },
    {
      "cell_type": "code",
      "source": [
        "# Classification\n",
        "\n",
        "knn_cls = KNN(X_train, y_class)\n",
        "pred_class = knn_cls.predict(x_new, k=k)\n",
        "print(f\"Classification (k={k}) for {x_new}: {pred_class}\")"
      ],
      "metadata": {
        "colab": {
          "base_uri": "https://localhost:8080/"
        },
        "id": "pjpOMt-06Jc1",
        "outputId": "258c8bdd-faba-4ca3-d6fe-6e515ee2adc5"
      },
      "execution_count": 36,
      "outputs": [
        {
          "output_type": "stream",
          "name": "stdout",
          "text": [
            "DISTANCES\n",
            "1.0\n",
            "1.0\n",
            "1.4142135623730951\n",
            "7.810249675906654\n",
            "9.219544457292887\n",
            "NEIGHBOR LABELS: ['A', 'A', 'B']\n",
            "COUNT\n",
            "{'A': 2, 'B': 1}\n",
            "Classification (k=3) for [2.0, 2.0]: A\n"
          ]
        }
      ]
    }
  ]
}